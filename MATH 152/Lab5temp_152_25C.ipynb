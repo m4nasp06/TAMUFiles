{
 "cells": [
  {
   "cell_type": "markdown",
   "id": "20c00fa5",
   "metadata": {
    "id": "20c00fa5"
   },
   "source": [
    "## MATH 152 Lab 5"
   ]
  },
  {
   "cell_type": "markdown",
   "id": "7c243ef1",
   "metadata": {
    "id": "7c243ef1"
   },
   "source": [
    "Put team members' names and section number here."
   ]
  },
  {
   "cell_type": "code",
   "execution_count": null,
   "id": "cf836732",
   "metadata": {
    "id": "cf836732"
   },
   "outputs": [],
   "source": [
    "import sympy as sp\n",
    "from sympy.plotting import (plot,plot_parametric)\n",
    "import matplotlib.pyplot as plt"
   ]
  },
  {
   "cell_type": "markdown",
   "id": "3169990f",
   "metadata": {
    "id": "3169990f"
   },
   "source": [
    "### Question 1"
   ]
  },
  {
   "cell_type": "markdown",
   "id": "f0561a86",
   "metadata": {
    "id": "f0561a86"
   },
   "source": [
    "#### 1a"
   ]
  },
  {
   "cell_type": "code",
   "execution_count": 1,
   "id": "41756879",
   "metadata": {
    "id": "41756879"
   },
   "outputs": [
    {
     "name": "stdout",
     "output_type": "stream",
     "text": [
      "n= 1  a_n=2022.500000000000    b_n=2022.489554979209\n",
      "n= 2  a_n=2022.494777489605    b_n=2022.494777482862\n",
      "n= 3  a_n=2022.494777486233    b_n=2022.494777486233\n",
      "n= 4  a_n=2022.494777486233    b_n=2022.494777486233\n",
      "n= 5  a_n=2022.494777486233    b_n=2022.494777486233\n",
      "n= 6  a_n=2022.494777486233    b_n=2022.494777486233\n",
      "n= 7  a_n=2022.494777486233    b_n=2022.494777486233\n",
      "n= 8  a_n=2022.494777486233    b_n=2022.494777486233\n",
      "n= 9  a_n=2022.494777486233    b_n=2022.494777486233\n",
      "n=10  a_n=2022.494777486233    b_n=2022.494777486233\n"
     ]
    }
   ],
   "source": [
    "# Enter your code here\n",
    "a0 = 2029.0\n",
    "b0 = 2016.0\n",
    "\n",
    "a_values = [a0]\n",
    "b_values = [b0]\n",
    "for _ in range(10):\n",
    "    a_next = 0.5*(a_values[-1] + b_values[-1])\n",
    "    b_next = (a_values[-1] * b_values[-1])**0.5\n",
    "    a_values.append(a_next)\n",
    "    b_values.append(b_next)\n",
    "\n",
    "for n in range(1, 11):\n",
    "    print(f\"n={n:2d}  a_n={a_values[n]:.12f}    b_n={b_values[n]:.12f}\")\n"
   ]
  },
  {
   "cell_type": "markdown",
   "id": "42e39dbe-28df-4317-8916-a3a694513914",
   "metadata": {
    "id": "42e39dbe-28df-4317-8916-a3a694513914"
   },
   "source": [
    "#### 1b"
   ]
  },
  {
   "cell_type": "code",
   "execution_count": 2,
   "id": "21ea705e",
   "metadata": {
    "id": "21ea705e"
   },
   "outputs": [
    {
     "ename": "NameError",
     "evalue": "name 'plt' is not defined",
     "output_type": "error",
     "traceback": [
      "\u001b[31m---------------------------------------------------------------------------\u001b[39m",
      "\u001b[31mNameError\u001b[39m                                 Traceback (most recent call last)",
      "\u001b[36mCell\u001b[39m\u001b[36m \u001b[39m\u001b[32mIn[2]\u001b[39m\u001b[32m, line 4\u001b[39m\n\u001b[32m      1\u001b[39m \u001b[38;5;66;03m# Enter your code here\u001b[39;00m\n\u001b[32m      2\u001b[39m \u001b[38;5;66;03m# uses the a_vals, b_vals computed above\u001b[39;00m\n\u001b[32m      3\u001b[39m xs = \u001b[38;5;28mlist\u001b[39m(\u001b[38;5;28mrange\u001b[39m(\u001b[32m1\u001b[39m, \u001b[32m11\u001b[39m))\n\u001b[32m----> \u001b[39m\u001b[32m4\u001b[39m \u001b[43mplt\u001b[49m.figure()\n\u001b[32m      5\u001b[39m plt.plot(xs, [a_values[n] \u001b[38;5;28;01mfor\u001b[39;00m n \u001b[38;5;129;01min\u001b[39;00m xs], marker=\u001b[33m'\u001b[39m\u001b[33mo\u001b[39m\u001b[33m'\u001b[39m, label=\u001b[33m'\u001b[39m\u001b[33ma_n\u001b[39m\u001b[33m'\u001b[39m)\n\u001b[32m      6\u001b[39m plt.plot(xs, [b_values[n] \u001b[38;5;28;01mfor\u001b[39;00m n \u001b[38;5;129;01min\u001b[39;00m xs], marker=\u001b[33m'\u001b[39m\u001b[33ms\u001b[39m\u001b[33m'\u001b[39m, label=\u001b[33m'\u001b[39m\u001b[33mb_n\u001b[39m\u001b[33m'\u001b[39m)\n",
      "\u001b[31mNameError\u001b[39m: name 'plt' is not defined"
     ]
    }
   ],
   "source": [
    "# Enter your code here\n",
    "# uses the a_vals, b_vals computed above\n",
    "xs = list(range(1, 11))\n",
    "plt.figure()\n",
    "plt.plot(xs, [a_values[n] for n in xs], marker='o', label='a_n')\n",
    "plt.plot(xs, [b_values[n] for n in xs], marker='s', label='b_n')\n",
    "plt.xlabel('n')\n",
    "plt.ylabel('value')\n",
    "plt.title('AGM Sequences a_n and b_n')\n",
    "plt.legend()\n",
    "plt.show()\n",
    "\n"
   ]
  },
  {
   "cell_type": "markdown",
   "id": "efdd616f",
   "metadata": {
    "id": "efdd616f"
   },
   "source": [
    "#### 1c"
   ]
  },
  {
   "cell_type": "code",
   "execution_count": null,
   "id": "634d3d59",
   "metadata": {
    "id": "634d3d59"
   },
   "outputs": [],
   "source": [
    "# Enter your code here\n",
    "\n"
   ]
  },
  {
   "cell_type": "markdown",
   "id": "8b00f000",
   "metadata": {
    "id": "8b00f000"
   },
   "source": [
    "### Question 2"
   ]
  },
  {
   "cell_type": "markdown",
   "id": "ccffd0d0",
   "metadata": {
    "id": "ccffd0d0"
   },
   "source": [
    "#### 2a"
   ]
  },
  {
   "cell_type": "code",
   "execution_count": null,
   "id": "9ebb9309",
   "metadata": {
    "id": "9ebb9309"
   },
   "outputs": [],
   "source": [
    "# Enter your code here\n",
    "\n"
   ]
  },
  {
   "cell_type": "markdown",
   "id": "baa2be1a",
   "metadata": {
    "id": "baa2be1a"
   },
   "source": [
    "#### 2b"
   ]
  },
  {
   "cell_type": "code",
   "execution_count": null,
   "id": "7YKGjcpT_TZD",
   "metadata": {
    "id": "7YKGjcpT_TZD"
   },
   "outputs": [],
   "source": [
    "# Enter your code here\n",
    "\n"
   ]
  },
  {
   "cell_type": "markdown",
   "id": "nTH2hU2E_qrw",
   "metadata": {
    "id": "nTH2hU2E_qrw"
   },
   "source": [
    "#### 2c"
   ]
  },
  {
   "cell_type": "code",
   "execution_count": null,
   "id": "92832935",
   "metadata": {
    "id": "92832935"
   },
   "outputs": [],
   "source": [
    "# Enter your code here\n",
    "\n"
   ]
  },
  {
   "cell_type": "markdown",
   "id": "3dcc5f6d",
   "metadata": {
    "id": "3dcc5f6d"
   },
   "source": [
    "#### 2d"
   ]
  },
  {
   "cell_type": "code",
   "execution_count": null,
   "id": "67d0a563",
   "metadata": {
    "id": "67d0a563"
   },
   "outputs": [],
   "source": [
    "# Enter your code here\n",
    "\n"
   ]
  },
  {
   "cell_type": "markdown",
   "id": "7e20a1d3",
   "metadata": {
    "id": "7e20a1d3"
   },
   "source": [
    "### Question 3"
   ]
  },
  {
   "cell_type": "markdown",
   "id": "f695ae23",
   "metadata": {
    "id": "f695ae23"
   },
   "source": [
    "#### 3a"
   ]
  },
  {
   "cell_type": "code",
   "execution_count": null,
   "id": "OKhvPrep9eHt",
   "metadata": {
    "id": "OKhvPrep9eHt"
   },
   "outputs": [],
   "source": [
    "# Enter your code here\n",
    "\n"
   ]
  },
  {
   "cell_type": "markdown",
   "id": "jseqgADjnxzW",
   "metadata": {
    "id": "jseqgADjnxzW"
   },
   "source": [
    "####3b"
   ]
  },
  {
   "cell_type": "code",
   "execution_count": null,
   "id": "SpJ5nG0hnAi7",
   "metadata": {
    "id": "SpJ5nG0hnAi7"
   },
   "outputs": [],
   "source": [
    "# Enter your code here\n",
    "\n"
   ]
  },
  {
   "cell_type": "markdown",
   "id": "ZFFd8suiuQEi",
   "metadata": {
    "id": "ZFFd8suiuQEi"
   },
   "source": [
    "####3c"
   ]
  },
  {
   "cell_type": "code",
   "execution_count": null,
   "id": "x_udWy3ruP1l",
   "metadata": {
    "id": "x_udWy3ruP1l"
   },
   "outputs": [],
   "source": [
    "# Enter your code here\n",
    "\n"
   ]
  },
  {
   "cell_type": "markdown",
   "id": "6hOf5jcyuXJt",
   "metadata": {
    "id": "6hOf5jcyuXJt"
   },
   "source": [
    "####3d"
   ]
  },
  {
   "cell_type": "code",
   "execution_count": null,
   "id": "fB4SHHn6uPy8",
   "metadata": {
    "id": "fB4SHHn6uPy8"
   },
   "outputs": [],
   "source": [
    "# Enter your code here\n",
    "\n"
   ]
  },
  {
   "cell_type": "markdown",
   "id": "ubf_1V2wuXjE",
   "metadata": {
    "id": "ubf_1V2wuXjE"
   },
   "source": [
    "####3e"
   ]
  },
  {
   "cell_type": "code",
   "execution_count": null,
   "id": "b0vFUzpBuPdn",
   "metadata": {
    "id": "b0vFUzpBuPdn"
   },
   "outputs": [],
   "source": [
    "# Enter your code here\n",
    "\n"
   ]
  }
 ],
 "metadata": {
  "colab": {
   "provenance": []
  },
  "kernelspec": {
   "display_name": "Python 3",
   "language": "python",
   "name": "python3"
  },
  "language_info": {
   "codemirror_mode": {
    "name": "ipython",
    "version": 3
   },
   "file_extension": ".py",
   "mimetype": "text/x-python",
   "name": "python",
   "nbconvert_exporter": "python",
   "pygments_lexer": "ipython3",
   "version": "3.12.6"
  }
 },
 "nbformat": 4,
 "nbformat_minor": 5
}
