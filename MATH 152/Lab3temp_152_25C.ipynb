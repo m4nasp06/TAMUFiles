{
 "cells": [
  {
   "cell_type": "markdown",
   "id": "20c00fa5",
   "metadata": {
    "id": "20c00fa5"
   },
   "source": [
    "## MATH 152 Lab  3"
   ]
  },
  {
   "cell_type": "markdown",
   "id": "7c243ef1",
   "metadata": {
    "id": "7c243ef1"
   },
   "source": [
    "Put team members' names and section number here."
   ]
  },
  {
   "cell_type": "code",
   "execution_count": 5,
   "id": "cf836732",
   "metadata": {
    "executionInfo": {
     "elapsed": 47,
     "status": "ok",
     "timestamp": 1758150022429,
     "user": {
      "displayName": "Philip Speegle",
      "userId": "12640483909201029945"
     },
     "user_tz": 300
    },
    "id": "cf836732"
   },
   "outputs": [],
   "source": [
    "import sympy as sp\n",
    "import numpy as np\n",
    "import matplotlib.pyplot as plt\n",
    "x, y = sp.symbols('x y', real=True)\n",
    "f = sp.log(1 + x)        \n",
    "b = sp.E**(-1)          \n",
    "L = sp.log(1 + b)        \n"
   ]
  },
  {
   "cell_type": "markdown",
   "id": "5454c0c0",
   "metadata": {
    "id": "5454c0c0"
   },
   "source": [
    "Instructions: Complete the lab assignment in your assigned groups. Unless stated otherwise, your answers should be obtained using Python code.\n",
    "\n",
    "Do not modify the cell above, as it contains all the packages you will need. It is highly recommended to not use any additional packages.\n",
    "\n",
    "NOTE: Approximate answers are acceptable for all non-plotting parts of this week's lab."
   ]
  },
  {
   "cell_type": "markdown",
   "id": "3169990f",
   "metadata": {
    "id": "3169990f"
   },
   "source": [
    "### Question 1"
   ]
  },
  {
   "cell_type": "markdown",
   "id": "f0561a86",
   "metadata": {
    "id": "f0561a86"
   },
   "source": [
    "#### 1a"
   ]
  },
  {
   "cell_type": "code",
   "execution_count": 6,
   "id": "UyxljDOfwkL3",
   "metadata": {
    "executionInfo": {
     "elapsed": 4,
     "status": "ok",
     "timestamp": 1758150022453,
     "user": {
      "displayName": "Philip Speegle",
      "userId": "12640483909201029945"
     },
     "user_tz": 300
    },
    "id": "UyxljDOfwkL3"
   },
   "outputs": [
    {
     "data": {
      "image/png": "[encoded data removed]",
      "text/plain": [
       "<Figure size 700x450 with 1 Axes>"
      ]
     },
     "metadata": {},
     "output_type": "display_data"
    }
   ],
   "source": [
    "X = np.linspace(0, float(sp.N(b)), 1200)\n",
    "Y = np.log1p(X)\n",
    "\n",
    "plt.figure(figsize=(7,4.5))\n",
    "plt.plot(X, Y, label=r\"$f(x)=\\ln(1+x)$\", linewidth=2)\n",
    "plt.axhline(0, ls=\"--\", lw=1)\n",
    "plt.axhline(1, ls=\"--\", lw=1)\n",
    "plt.axvline(float(sp.N(b)), ls=\":\", lw=1)\n",
    "\n",
    "# Blue region between y=0 and f(x)\n",
    "plt.fill_between(X, Y, 0, color=\"blue\", alpha=0.35, label=\"Blue region\")\n",
    "\n",
    "# Red region between y=1 and f(x)\n",
    "plt.fill_between(X, Y, 1, color=\"red\", alpha=0.35, label=\"Red region\")\n",
    "\n",
    "plt.xlim(0, float(sp.N(b)))\n",
    "plt.ylim(0, 1.05)\n",
    "plt.xlabel(\"x\")\n",
    "plt.ylabel(\"y\")\n",
    "plt.title(r\"Lab 3 (1a): $f(x)=\\ln(1+x)$ on $[0,e^{-1}]$\")\n",
    "plt.legend(loc=\"lower right\")\n",
    "plt.tight_layout()\n",
    "plt.show()\n"
   ]
  },
  {
   "cell_type": "markdown",
   "id": "efdd616f",
   "metadata": {
    "id": "efdd616f"
   },
   "source": [
    "#### 1b"
   ]
  },
  {
   "cell_type": "code",
   "execution_count": 7,
   "id": "6dee28db",
   "metadata": {},
   "outputs": [
    {
     "name": "stdout",
     "output_type": "stream",
     "text": [
      "1(b) Combined area =  exp(-1) ≈ 0.367879441171442\n"
     ]
    }
   ],
   "source": [
    "combined_area = sp.simplify(b * 1)\n",
    "print(\"1(b) Combined area = \", combined_area, \"≈\", sp.N(combined_area))\n"
   ]
  },
  {
   "cell_type": "markdown",
   "id": "ffb7fbf1",
   "metadata": {
    "id": "ffb7fbf1"
   },
   "source": [
    "#### 1c"
   ]
  },
  {
   "cell_type": "code",
   "execution_count": 8,
   "id": "03e7f4d6",
   "metadata": {},
   "outputs": [
    {
     "name": "stdout",
     "output_type": "stream",
     "text": [
      "1(c) Red area results:\n",
      "  Chain rule (full)        = (-log((1 + E)**(1 + E)) + E + 3)*exp(-1) ≈ 0.307254660280035\n",
      "  Rectangle − Blue        = (-log((1 + E)**(1 + E)) + E + 3)*exp(-1) ≈ 0.307254660280035\n",
      "  dy method               = (-log((1 + E)**(1 + E)) + E + 3)*exp(-1) ≈ 0.307254660280035\n",
      "\n",
      "Agreement checks:\n",
      " chain vs rect : True\n",
      " chain vs dy   : True\n"
     ]
    }
   ],
   "source": [
    "# Method 1: chain rule ∫ x f'(x) dx + top strip\n",
    "red_partial = sp.integrate(x * sp.diff(f, x), (x, 0, b))\n",
    "red_topstrip = b * (1 - L)\n",
    "red_chain_full = sp.simplify(red_partial + red_topstrip)\n",
    "\n",
    "# Method 2: rectangle – blue area\n",
    "blue_area = sp.integrate(f, (x, 0, b))\n",
    "red_rect_minus_blue = sp.simplify(combined_area - blue_area)\n",
    "\n",
    "# Method 3: horizontal integration (dy)\n",
    "red_dy = sp.integrate(sp.E**y - 1, (y, 0, L)) + b * (1 - L)\n",
    "red_dy = sp.simplify(red_dy)\n",
    "\n",
    "print(\"1(c) Red area results:\")\n",
    "print(\"  Chain rule (full)        =\", red_chain_full, \"≈\", sp.N(red_chain_full))\n",
    "print(\"  Rectangle − Blue        =\", red_rect_minus_blue, \"≈\", sp.N(red_rect_minus_blue))\n",
    "print(\"  dy method               =\", red_dy, \"≈\", sp.N(red_dy))\n",
    "\n",
    "print(\"\\nAgreement checks:\")\n",
    "print(\" chain vs rect :\", sp.simplify(red_chain_full - red_rect_minus_blue) == 0)\n",
    "print(\" chain vs dy   :\", sp.simplify(red_chain_full - red_dy) == 0)"
   ]
  },
  {
   "cell_type": "markdown",
   "id": "8b00f000",
   "metadata": {
    "id": "8b00f000"
   },
   "source": [
    "### Question 2"
   ]
  },
  {
   "cell_type": "markdown",
   "id": "bacdc1db",
   "metadata": {
    "id": "bacdc1db"
   },
   "source": [
    "#### 2a"
   ]
  },
  {
   "cell_type": "code",
   "execution_count": 9,
   "id": "6f6e567a",
   "metadata": {},
   "outputs": [
    {
     "name": "stdout",
     "output_type": "stream",
     "text": [
      "Part 2(a):\n",
      "u  = cos^(n-1)(x)\n",
      "dv = cos(x) dx\n",
      "du = -(n-1)cos^(n-2)(x)sin(x) dx\n",
      "v  = sin(x)\n"
     ]
    }
   ],
   "source": [
    "print(\"Part 2(a):\")\n",
    "print(\"u  = cos^(n-1)(x)\")\n",
    "print(\"dv = cos(x) dx\")\n",
    "print(\"du = -(n-1)cos^(n-2)(x)sin(x) dx\")\n",
    "print(\"v  = sin(x)\")"
   ]
  },
  {
   "cell_type": "markdown",
   "id": "IAG1n2BJyIgo",
   "metadata": {
    "id": "IAG1n2BJyIgo"
   },
   "source": []
  },
  {
   "cell_type": "markdown",
   "id": "23bc68a6",
   "metadata": {
    "id": "23bc68a6"
   },
   "source": [
    "#### 2b"
   ]
  },
  {
   "cell_type": "markdown",
   "id": "CCmItRYJyZ_y",
   "metadata": {
    "id": "CCmItRYJyZ_y"
   },
   "source": [
    "**Nothing here is needed.**"
   ]
  },
  {
   "cell_type": "markdown",
   "id": "-UihdyHZXNLs",
   "metadata": {
    "id": "-UihdyHZXNLs"
   },
   "source": [
    "#### 2c"
   ]
  },
  {
   "cell_type": "code",
   "execution_count": 10,
   "id": "CDrcthrbydMP",
   "metadata": {
    "executionInfo": {
     "elapsed": 2,
     "status": "ok",
     "timestamp": 1758150022461,
     "user": {
      "displayName": "Philip Speegle",
      "userId": "12640483909201029945"
     },
     "user_tz": 300
    },
    "id": "CDrcthrbydMP"
   },
   "outputs": [],
   "source": [
    "def F(n):\n",
    "    \"\"\"\n",
    "    Recursive antiderivative for ∫ cosⁿ(x) dx\n",
    "      F(0)=x\n",
    "      F(1)=sin(x)\n",
    "      F(n)=sin(x)cosⁿ⁻¹(x)/n + ((n−1)/n) F(n−2)\n",
    "    \"\"\"\n",
    "    if not isinstance(n, int) or n < 0:\n",
    "        return \"Invalid input.\"\n",
    "    if n == 0:\n",
    "        return x\n",
    "    if n == 1:\n",
    "        return sp.sin(x)\n",
    "    return sp.Rational(1, n)*sp.sin(x)*sp.cos(x)**(n-1) + sp.Rational(n-1, n)*F(n-2)"
   ]
  },
  {
   "cell_type": "markdown",
   "id": "j7ZdkWlx2Gxw",
   "metadata": {
    "id": "j7ZdkWlx2Gxw"
   },
   "source": [
    "#### 2d"
   ]
  },
  {
   "cell_type": "code",
   "execution_count": 12,
   "id": "Q6y5Vymizsac",
   "metadata": {
    "executionInfo": {
     "elapsed": 1,
     "status": "ok",
     "timestamp": 1758150022463,
     "user": {
      "displayName": "Philip Speegle",
      "userId": "12640483909201029945"
     },
     "user_tz": 300
    },
    "id": "Q6y5Vymizsac"
   },
   "outputs": [
    {
     "name": "stdout",
     "output_type": "stream",
     "text": [
      "2(d) Recursive tests\n",
      " F(2)=  x/2 + sin(2*x)/4\n",
      " Direct ∫cos²x =  x/2 + sin(2*x)/4\n",
      " Diff = 0\n",
      "\n",
      " F(7)=  (5*cos(x)**6 + 6*cos(x)**4 + 8*cos(x)**2 + 16)*sin(x)/35\n",
      " Direct ∫cos⁷x =  (-sin(x)**6/7 + 3*sin(x)**4/5 + cos(x)**2)*sin(x)\n",
      " Diff = 0\n",
      "\n",
      " F(-1)=  Invalid input.\n",
      " F('abc') =  Invalid input.\n",
      " Diff = 0\n",
      "\n",
      " F(-1)=  Invalid input.\n",
      " F('abc') =  Invalid input.\n"
     ]
    }
   ],
   "source": [
    "F2, F7 = F(2), F(7)\n",
    "Fm1, Fstr = F(-1), F(\"abc\")\n",
    "\n",
    "direct2 = sp.integrate(sp.cos(x)**2, x)\n",
    "direct7 = sp.integrate(sp.cos(x)**7, x)\n",
    "\n",
    "print(\"2(d) Recursive tests\")\n",
    "print(\" F(2)= \", sp.simplify(F2))\n",
    "print(\" Direct ∫cos²x = \", sp.simplify(direct2))\n",
    "print(\" Diff =\", sp.simplify(F2 - direct2))\n",
    "print(\"\\n F(7)= \", sp.simplify(F7))\n",
    "print(\" Direct ∫cos⁷x = \", sp.simplify(direct7))\n",
    "print(\" Diff =\", sp.simplify(F7 - direct7))\n",
    "print(\"\\n F(-1)= \", Fm1)\n",
    "print(\" F('abc') = \", Fstr)"
   ]
  }
 ],
 "metadata": {
  "colab": {
   "provenance": []
  },
  "kernelspec": {
   "display_name": "Python 3",
   "language": "python",
   "name": "python3"
  },
  "language_info": {
   "codemirror_mode": {
    "name": "ipython",
    "version": 3
   },
   "file_extension": ".py",
   "mimetype": "text/x-python",
   "name": "python",
   "nbconvert_exporter": "python",
   "pygments_lexer": "ipython3",
   "version": "3.13.0"
  }
 },
 "nbformat": 4,
 "nbformat_minor": 5
}
