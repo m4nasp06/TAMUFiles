{
 "cells": [
  {
   "cell_type": "markdown",
   "id": "20c00fa5",
   "metadata": {
    "id": "20c00fa5"
   },
   "source": [
    "## MATH 152 Lab 2 Solutions"
   ]
  },
  {
   "cell_type": "markdown",
   "id": "7c243ef1",
   "metadata": {
    "id": "7c243ef1"
   },
   "source": [
    "Put team members' names and section number here."
   ]
  },
  {
   "cell_type": "code",
   "execution_count": 1,
   "id": "cf836732",
   "metadata": {
    "id": "cf836732"
   },
   "outputs": [],
   "source": [
    "import sympy as sp\n",
    "from sympy.plotting import (plot,plot_parametric)"
   ]
  },
  {
   "cell_type": "markdown",
   "id": "a0cd9e48",
   "metadata": {
    "id": "a0cd9e48"
   },
   "source": [
    "Instructions: Complete the lab assignment in your assigned groups. Unless stated otherwise, your answers should be obtained using Python code.\n",
    "\n",
    "Do not modify the cell above, as it contains all the packages you will need. It is highly recommended to not use any additional packages."
   ]
  },
  {
   "cell_type": "markdown",
   "id": "3169990f",
   "metadata": {
    "id": "3169990f"
   },
   "source": [
    "### Question 1"
   ]
  },
  {
   "cell_type": "code",
   "execution_count": 2,
   "id": "e446931c",
   "metadata": {
    "id": "e446931c"
   },
   "outputs": [
    {
     "data": {
      "text/latex": [
       "$\\displaystyle \\frac{\\pi}{2}$"
      ],
      "text/plain": [
       "pi/2"
      ]
     },
     "execution_count": 2,
     "metadata": {},
     "output_type": "execute_result"
    }
   ],
   "source": [
    "# Enter code here\n",
    "x = sp.symbols('x', nonnegative=True)\n",
    "V1 = sp.integrate(sp.pi*(x/16), (x, 0, 4))\n",
    "sp.simplify(V1)\n"
   ]
  },
  {
   "cell_type": "markdown",
   "id": "624f219e",
   "metadata": {
    "id": "624f219e"
   },
   "source": [
    "### Question 2"
   ]
  },
  {
   "cell_type": "markdown",
   "id": "f0561a86",
   "metadata": {
    "id": "f0561a86"
   },
   "source": [
    "#### 2a"
   ]
  },
  {
   "cell_type": "code",
   "execution_count": 3,
   "id": "cbfab3f6",
   "metadata": {
    "id": "cbfab3f6"
   },
   "outputs": [
    {
     "data": {
      "text/latex": [
       "$\\displaystyle \\frac{\\pi \\left(r^{4} - 2 r^{3} + 2 r - 1\\right)}{6}$"
      ],
      "text/plain": [
       "pi*(r**4 - 2*r**3 + 2*r - 1)/6"
      ]
     },
     "execution_count": 3,
     "metadata": {},
     "output_type": "execute_result"
    }
   ],
   "source": [
    "# Enter code here\n",
    "x, r = sp.symbols('x r', positive=True)\n",
    "y = (1 - x)*(x - r)\n",
    "V = sp.simplify(2*sp.pi*sp.integrate(x*y, (x, 1, r)))\n",
    "V\n"
   ]
  },
  {
   "cell_type": "markdown",
   "id": "y-v9u5vePw04",
   "metadata": {
    "id": "y-v9u5vePw04"
   },
   "source": [
    "#### 2b"
   ]
  },
  {
   "cell_type": "code",
   "execution_count": 4,
   "id": "CQ4Nwo3QPzfI",
   "metadata": {
    "id": "CQ4Nwo3QPzfI"
   },
   "outputs": [
    {
     "data": {
      "text/plain": [
       "70.68583470577035"
      ]
     },
     "execution_count": 4,
     "metadata": {},
     "output_type": "execute_result"
    }
   ],
   "source": [
    "# Enter code here\n",
    "V_4 = sp.simplify(V.subs(r, 4))\n",
    "float(V_4)\n"
   ]
  },
  {
   "cell_type": "markdown",
   "id": "efdd616f",
   "metadata": {
    "id": "efdd616f"
   },
   "source": [
    "#### 2c"
   ]
  },
  {
   "cell_type": "code",
   "execution_count": 6,
   "id": "6fd5ac31",
   "metadata": {
    "id": "6fd5ac31"
   },
   "outputs": [
    {
     "data": {
      "text/plain": [
       "[-4.48055640720459, 5.45968149043337]"
      ]
     },
     "execution_count": 6,
     "metadata": {},
     "output_type": "execute_result"
    }
   ],
   "source": [
    "# Enter code here\n",
    "eq = sp.Eq(V, 300)\n",
    "root_candidates = sp.nroots(sp.expand(sp.together(V - 300)))\n",
    "[r for r in root_candidates if abs(sp.im(r)) < 1e-10]\n"
   ]
  },
  {
   "cell_type": "markdown",
   "id": "b922445e",
   "metadata": {
    "id": "b922445e"
   },
   "source": [
    "### Question 3"
   ]
  },
  {
   "cell_type": "markdown",
   "id": "6889b8e7",
   "metadata": {
    "id": "6889b8e7"
   },
   "source": [
    "#### 3a"
   ]
  },
  {
   "cell_type": "code",
   "execution_count": 7,
   "id": "d20a7a8e",
   "metadata": {
    "id": "d20a7a8e"
   },
   "outputs": [
    {
     "data": {
      "text/latex": [
       "$\\displaystyle \\frac{4 \\pi R^{3}}{3}$"
      ],
      "text/plain": [
       "4*pi*R**3/3"
      ]
     },
     "execution_count": 7,
     "metadata": {},
     "output_type": "execute_result"
    }
   ],
   "source": [
    "# Enter code here\n",
    "x, R = sp.symbols('x R', positive=True)\n",
    "f = sp.sqrt(R**2 - x**2)\n",
    "V_R = sp.integrate(sp.pi*f**2, (x, -R, R))\n",
    "sp.simplify(V_R)\n"
   ]
  },
  {
   "cell_type": "markdown",
   "id": "3a7e1713",
   "metadata": {
    "id": "3a7e1713"
   },
   "source": [
    "#### 3b"
   ]
  },
  {
   "cell_type": "code",
   "execution_count": 8,
   "id": "8b00ae4b",
   "metadata": {
    "id": "8b00ae4b"
   },
   "outputs": [
    {
     "data": {
      "text/latex": [
       "$\\displaystyle 4 \\pi R^{2}$"
      ],
      "text/plain": [
       "4*pi*R**2"
      ]
     },
     "execution_count": 8,
     "metadata": {},
     "output_type": "execute_result"
    }
   ],
   "source": [
    "# Enter code here\n",
    "fp = sp.diff(f, x)\n",
    "A_R = sp.simplify(sp.integrate(2*sp.pi*f*sp.sqrt(1+fp**2), (x, -R, R)))\n",
    "A_R \n"
   ]
  },
  {
   "cell_type": "markdown",
   "id": "588fed78",
   "metadata": {
    "id": "588fed78"
   },
   "source": [
    "#### 3c"
   ]
  },
  {
   "cell_type": "code",
   "execution_count": 9,
   "id": "6063c3d4",
   "metadata": {
    "id": "6063c3d4"
   },
   "outputs": [
    {
     "name": "stdout",
     "output_type": "stream",
     "text": [
      "V'(R) = 4.0*pi*R**2\n",
      "A(R)   = 4*pi*R**2\n",
      "They are equal: True\n"
     ]
    }
   ],
   "source": [
    "# Enter code here\n",
    "R = sp.symbols('R', positive=True)\n",
    "V = (4/3) * sp.pi * R**3\n",
    "A = 4 * sp.pi * R**2\n",
    "\n",
    "# Differentiate V(R)\n",
    "dV_dR = sp.diff(V, R)\n",
    "\n",
    "print(\"V'(R) =\", dV_dR)\n",
    "print(\"A(R)   =\", A)\n",
    "print(\"They are equal:\", sp.simplify(dV_dR - A) == 0)\n"
   ]
  }
 ],
 "metadata": {
  "colab": {
   "provenance": []
  },
  "kernelspec": {
   "display_name": "Python 3",
   "language": "python",
   "name": "python3"
  },
  "language_info": {
   "codemirror_mode": {
    "name": "ipython",
    "version": 3
   },
   "file_extension": ".py",
   "mimetype": "text/x-python",
   "name": "python",
   "nbconvert_exporter": "python",
   "pygments_lexer": "ipython3",
   "version": "3.13.0"
  }
 },
 "nbformat": 4,
 "nbformat_minor": 5
}
