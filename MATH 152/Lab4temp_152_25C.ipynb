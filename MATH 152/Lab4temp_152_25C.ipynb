{
 "cells": [
  {
   "cell_type": "markdown",
   "id": "20c00fa5",
   "metadata": {
    "id": "20c00fa5"
   },
   "source": [
    "## MATH 152 Lab  4"
   ]
  },
  {
   "cell_type": "markdown",
   "id": "7c243ef1",
   "metadata": {
    "id": "7c243ef1"
   },
   "source": [
    "Ram Paramathmuni 501"
   ]
  },
  {
   "cell_type": "code",
   "execution_count": 1,
   "id": "cf836732",
   "metadata": {
    "id": "cf836732"
   },
   "outputs": [],
   "source": [
    "import sympy as sp\n",
    "from sympy.plotting import (plot, plot_parametric)\n",
    "x, u = sp.symbols('x,u')"
   ]
  },
  {
   "cell_type": "markdown",
   "id": "3169990f",
   "metadata": {
    "id": "3169990f"
   },
   "source": [
    "### Question 1"
   ]
  },
  {
   "cell_type": "markdown",
   "id": "f0561a86",
   "metadata": {
    "id": "f0561a86"
   },
   "source": [
    "#### 1a"
   ]
  },
  {
   "cell_type": "code",
   "execution_count": 6,
   "id": "cbfab3f6",
   "metadata": {
    "id": "cbfab3f6"
   },
   "outputs": [
    {
     "name": "stdout",
     "output_type": "stream",
     "text": [
      "Simplified Integrand: 1/cos(x)\n",
      "Integrated: log(tan(x) + sec(x))\n"
     ]
    }
   ],
   "source": [
    "# Enter your code here\n",
    "sec, tan = sp.sec, sp.tan\n",
    "integrand1a = (sec(x)**2 + sec(x)*tan(x)) / (sec(x) + tan(x))\n",
    "u_expr = sec(x) + tan(x)\n",
    "du_dx = sp.diff(u_expr, x)\n",
    "\n",
    "print(\"Simplified Integrand:\" , sp.simplify(du_dx/u_expr))\n",
    "\n",
    "integral1a = sp.integrate(du_dx/u_expr, x)\n",
    "simplified = sp.simplify(integral1a)\n",
    "print(\"Integrated:\", sp.simplify(integral1a))\n",
    "\n"
   ]
  },
  {
   "cell_type": "markdown",
   "id": "Lvcac9CBpmgC",
   "metadata": {
    "id": "Lvcac9CBpmgC"
   },
   "source": [
    "#### 1b"
   ]
  },
  {
   "cell_type": "code",
   "execution_count": null,
   "id": "LhppF0ZYptWq",
   "metadata": {
    "id": "LhppF0ZYptWq"
   },
   "outputs": [
    {
     "name": "stdout",
     "output_type": "stream",
     "text": [
      "1/cos(x)\n"
     ]
    }
   ],
   "source": [
    "# Enter your answer here\n",
    "\n",
    "sin, cos = sp.sin, sp.cos\n",
    "\n",
    "# Multiply by cos(x)/cos(x) and use cos^2(x) = 1 - sin^2(x)\n",
    "expr_final = sp.simplify(cos(x) / (1 - sin(x)**2))\n",
    "\n",
    "# Substitute u = sin(x)\n",
    "expr_final_u = expr_final.subs(sin(x), u)\n",
    "\n",
    "# Print only the final expression\n",
    "print(expr_final_u)\n",
    "\n"
   ]
  },
  {
   "cell_type": "markdown",
   "id": "vyCyZYQbpmtt",
   "metadata": {
    "id": "vyCyZYQbpmtt"
   },
   "source": [
    "#### 1c"
   ]
  },
  {
   "cell_type": "code",
   "execution_count": null,
   "id": "ELEKkuJEptux",
   "metadata": {
    "id": "ELEKkuJEptux"
   },
   "outputs": [
    {
     "name": "stdout",
     "output_type": "stream",
     "text": [
      "Partial Fraction Decomposition: 1/(2*(u + 1)) - 1/(2*(u - 1))\n"
     ]
    }
   ],
   "source": [
    "# Enter your code here\n",
    "partial_fraction = sp.apart(1/(1 - u**2), u)\n",
    "print(\"Partial Fraction Decomposition:\", partial_fraction)\n"
   ]
  },
  {
   "cell_type": "markdown",
   "id": "IHUz7uoApm6e",
   "metadata": {
    "id": "IHUz7uoApm6e"
   },
   "source": [
    "#### 1d"
   ]
  },
  {
   "cell_type": "code",
   "execution_count": null,
   "id": "2AeaLyajpuF1",
   "metadata": {
    "id": "2AeaLyajpuF1"
   },
   "outputs": [
    {
     "name": "stdout",
     "output_type": "stream",
     "text": [
      "-log(u - 1)/2 + log(u + 1)/2\n",
      "-log(sin(x) - 1)/2 + log(sin(x) + 1)/2\n"
     ]
    }
   ],
   "source": [
    "# Enter your code here\n",
    "Function_u = sp.integrate(sp.apart(1/(1 - u**2), u), u)\n",
    "print(Function_u)  # integral in u\n",
    "\n",
    "# optional: back-substitute u = sin(x) to express the antiderivative in x\n",
    "Fd_x = sp.simplify(Function_u.subs(u, sp.sin(x)))\n",
    "print(Fd_x)\n",
    "\n"
   ]
  },
  {
   "cell_type": "markdown",
   "id": "8b00f000",
   "metadata": {
    "id": "8b00f000"
   },
   "source": [
    "### Question 2"
   ]
  },
  {
   "cell_type": "markdown",
   "id": "JqnvQPH0pNnz",
   "metadata": {
    "id": "JqnvQPH0pNnz"
   },
   "source": [
    "#### 2a"
   ]
  },
  {
   "cell_type": "code",
   "execution_count": 15,
   "id": "be2f2c71",
   "metadata": {
    "id": "be2f2c71"
   },
   "outputs": [
    {
     "name": "stdout",
     "output_type": "stream",
     "text": [
      "k=2 → pi\n",
      "k=4 → sqrt(2)*pi/2\n",
      "k=6 → 2*pi/3\n",
      "k=3 → nan\n"
     ]
    }
   ],
   "source": [
    "# Enter your code here\n",
    "oo = sp.oo\n",
    "\n",
    "def function1(k):\n",
    "    return sp.integrate(1/(x**k + 1), (x, -oo, oo))\n",
    "\n",
    "for k in [2, 4, 6]:\n",
    "    print(f\"k={k} →\", sp.simplify(function1(k)))\n",
    "\n",
    "# odd k: real pole at x=-1 → improper integral diverges\n",
    "try:\n",
    "    print(\"k=3 →\", function1(3))\n",
    "except Exception as e:\n",
    "    print(\"k=3 → diverges (real singularity at x = -1). Error:\", e)\n"
   ]
  },
  {
   "cell_type": "markdown",
   "id": "w_uR8omkpXH_",
   "metadata": {
    "id": "w_uR8omkpXH_"
   },
   "source": [
    "#### 2b"
   ]
  },
  {
   "cell_type": "code",
   "execution_count": null,
   "id": "DtjXhotBpaai",
   "metadata": {
    "id": "DtjXhotBpaai"
   },
   "outputs": [
    {
     "name": "stdout",
     "output_type": "stream",
     "text": [
      "oo\n"
     ]
    }
   ],
   "source": [
    "# Enter your code here\n",
    "e, oo = sp.E, sp.oo\n",
    "expr = 1/(x*sp.log(x))\n",
    "result = sp.integrate(expr, (x, e, oo))\n",
    "print(result)   # → oo (diverges)\n"
   ]
  },
  {
   "cell_type": "markdown",
   "id": "lZJ20c0fpXZe",
   "metadata": {
    "id": "lZJ20c0fpXZe"
   },
   "source": [
    "#### 2c"
   ]
  },
  {
   "cell_type": "code",
   "execution_count": 17,
   "id": "ggr5iNgjpZ8V",
   "metadata": {
    "id": "ggr5iNgjpZ8V"
   },
   "outputs": [
    {
     "name": "stdout",
     "output_type": "stream",
     "text": [
      "oo\n"
     ]
    }
   ],
   "source": [
    "# Enter your code here\n",
    "lower_limit = sp.E**sp.E\n",
    "expr = 1/(x*sp.log(x)*sp.log(sp.log(x)))\n",
    "result = sp.integrate(expr, (x, lower_limit, sp.oo))\n",
    "print(result)   # → oo (still diverges)\n",
    "\n"
   ]
  },
  {
   "cell_type": "markdown",
   "id": "B03HQXhAn8wv",
   "metadata": {
    "id": "B03HQXhAn8wv"
   },
   "source": [
    "2d"
   ]
  },
  {
   "cell_type": "code",
   "execution_count": 19,
   "id": "19RiSmpln8SV",
   "metadata": {
    "id": "19RiSmpln8SV"
   },
   "outputs": [
    {
     "name": "stdout",
     "output_type": "stream",
     "text": [
      "lim g(x) as x→∞ = oo\n",
      "oo\n"
     ]
    }
   ],
   "source": [
    "# Enter your code here\n",
    "g = sp.log(sp.log(sp.log(x)))   # → ∞ as x→∞ (very slowly)\n",
    "C = sp.E**(sp.E**sp.E)\n",
    "\n",
    "print(\"lim g(x) as x→∞ =\", sp.limit(g, x, sp.oo))  # → oo\n",
    "\n",
    "integrand = 1/(x*sp.log(x)*sp.log(sp.log(x))*g)\n",
    "result = sp.integrate(integrand, (x, C, sp.oo))\n",
    "print(result)   # → oo (diverges while g(x)→∞)\n"
   ]
  }
 ],
 "metadata": {
  "colab": {
   "provenance": []
  },
  "kernelspec": {
   "display_name": "Python 3",
   "language": "python",
   "name": "python3"
  },
  "language_info": {
   "codemirror_mode": {
    "name": "ipython",
    "version": 3
   },
   "file_extension": ".py",
   "mimetype": "text/x-python",
   "name": "python",
   "nbconvert_exporter": "python",
   "pygments_lexer": "ipython3",
   "version": "3.13.0"
  }
 },
 "nbformat": 4,
 "nbformat_minor": 5
}
